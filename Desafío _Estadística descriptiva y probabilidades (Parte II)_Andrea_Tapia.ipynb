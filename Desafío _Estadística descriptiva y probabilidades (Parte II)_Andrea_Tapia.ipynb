{
 "cells": [
  {
   "cell_type": "markdown",
   "id": "5c4b382e",
   "metadata": {},
   "source": [
    "# <span style=\"color:blue\">Desafío - Estadística descriptiva y probabilidades (Parte II)</span>\n",
    "\n",
    "## <span style=\"color:orange\">Cargamos los datos</span>"
   ]
  },
  {
   "cell_type": "code",
   "execution_count": 2,
   "id": "75c4c35f",
   "metadata": {
    "scrolled": true
   },
   "outputs": [
    {
     "name": "stderr",
     "output_type": "stream",
     "text": [
      "/Users/andrea/opt/anaconda3/lib/python3.9/site-packages/pandas/core/computation/expressions.py:21: UserWarning: Pandas requires version '2.8.4' or newer of 'numexpr' (version '2.8.3' currently installed).\n",
      "  from pandas.core.computation.check import NUMEXPR_INSTALLED\n",
      "/Users/andrea/opt/anaconda3/lib/python3.9/site-packages/pandas/core/arrays/masked.py:60: UserWarning: Pandas requires version '1.3.6' or newer of 'bottleneck' (version '1.3.5' currently installed).\n",
      "  from pandas.core import (\n"
     ]
    },
    {
     "data": {
      "text/html": [
       "<div>\n",
       "<style scoped>\n",
       "    .dataframe tbody tr th:only-of-type {\n",
       "        vertical-align: middle;\n",
       "    }\n",
       "\n",
       "    .dataframe tbody tr th {\n",
       "        vertical-align: top;\n",
       "    }\n",
       "\n",
       "    .dataframe thead th {\n",
       "        text-align: right;\n",
       "    }\n",
       "</style>\n",
       "<table border=\"1\" class=\"dataframe\">\n",
       "  <thead>\n",
       "    <tr style=\"text-align: right;\">\n",
       "      <th></th>\n",
       "      <th>team</th>\n",
       "      <th>continent</th>\n",
       "      <th>group</th>\n",
       "      <th>group_pos</th>\n",
       "      <th>cantidad_juegos</th>\n",
       "      <th>juegos_ganados</th>\n",
       "      <th>juegos_empatados</th>\n",
       "      <th>juegos_perdidos</th>\n",
       "      <th>goles_favor</th>\n",
       "      <th>goles_contra</th>\n",
       "      <th>goles_diferencia</th>\n",
       "      <th>puntos</th>\n",
       "      <th>clasificado</th>\n",
       "    </tr>\n",
       "  </thead>\n",
       "  <tbody>\n",
       "    <tr>\n",
       "      <th>0</th>\n",
       "      <td>Brazil</td>\n",
       "      <td>southamerica</td>\n",
       "      <td>A</td>\n",
       "      <td>1</td>\n",
       "      <td>3</td>\n",
       "      <td>2</td>\n",
       "      <td>1</td>\n",
       "      <td>0</td>\n",
       "      <td>7</td>\n",
       "      <td>2</td>\n",
       "      <td>5</td>\n",
       "      <td>7</td>\n",
       "      <td>1</td>\n",
       "    </tr>\n",
       "    <tr>\n",
       "      <th>1</th>\n",
       "      <td>Mexico</td>\n",
       "      <td>northamerica</td>\n",
       "      <td>A</td>\n",
       "      <td>2</td>\n",
       "      <td>3</td>\n",
       "      <td>2</td>\n",
       "      <td>1</td>\n",
       "      <td>0</td>\n",
       "      <td>4</td>\n",
       "      <td>1</td>\n",
       "      <td>3</td>\n",
       "      <td>7</td>\n",
       "      <td>1</td>\n",
       "    </tr>\n",
       "    <tr>\n",
       "      <th>2</th>\n",
       "      <td>Croatia</td>\n",
       "      <td>europe</td>\n",
       "      <td>A</td>\n",
       "      <td>3</td>\n",
       "      <td>3</td>\n",
       "      <td>1</td>\n",
       "      <td>0</td>\n",
       "      <td>2</td>\n",
       "      <td>6</td>\n",
       "      <td>6</td>\n",
       "      <td>0</td>\n",
       "      <td>3</td>\n",
       "      <td>0</td>\n",
       "    </tr>\n",
       "    <tr>\n",
       "      <th>3</th>\n",
       "      <td>Cameroon</td>\n",
       "      <td>africa</td>\n",
       "      <td>A</td>\n",
       "      <td>4</td>\n",
       "      <td>3</td>\n",
       "      <td>0</td>\n",
       "      <td>0</td>\n",
       "      <td>3</td>\n",
       "      <td>1</td>\n",
       "      <td>9</td>\n",
       "      <td>−8</td>\n",
       "      <td>0</td>\n",
       "      <td>0</td>\n",
       "    </tr>\n",
       "    <tr>\n",
       "      <th>4</th>\n",
       "      <td>Netherlands</td>\n",
       "      <td>europe</td>\n",
       "      <td>B</td>\n",
       "      <td>1</td>\n",
       "      <td>3</td>\n",
       "      <td>3</td>\n",
       "      <td>0</td>\n",
       "      <td>0</td>\n",
       "      <td>10</td>\n",
       "      <td>3</td>\n",
       "      <td>7</td>\n",
       "      <td>9</td>\n",
       "      <td>1</td>\n",
       "    </tr>\n",
       "    <tr>\n",
       "      <th>5</th>\n",
       "      <td>Chile</td>\n",
       "      <td>southamerica</td>\n",
       "      <td>B</td>\n",
       "      <td>2</td>\n",
       "      <td>3</td>\n",
       "      <td>2</td>\n",
       "      <td>0</td>\n",
       "      <td>1</td>\n",
       "      <td>5</td>\n",
       "      <td>3</td>\n",
       "      <td>2</td>\n",
       "      <td>6</td>\n",
       "      <td>1</td>\n",
       "    </tr>\n",
       "    <tr>\n",
       "      <th>6</th>\n",
       "      <td>Spain</td>\n",
       "      <td>europe</td>\n",
       "      <td>B</td>\n",
       "      <td>3</td>\n",
       "      <td>3</td>\n",
       "      <td>1</td>\n",
       "      <td>0</td>\n",
       "      <td>2</td>\n",
       "      <td>4</td>\n",
       "      <td>7</td>\n",
       "      <td>−3</td>\n",
       "      <td>3</td>\n",
       "      <td>0</td>\n",
       "    </tr>\n",
       "    <tr>\n",
       "      <th>7</th>\n",
       "      <td>Australia</td>\n",
       "      <td>asia</td>\n",
       "      <td>B</td>\n",
       "      <td>4</td>\n",
       "      <td>3</td>\n",
       "      <td>0</td>\n",
       "      <td>0</td>\n",
       "      <td>3</td>\n",
       "      <td>3</td>\n",
       "      <td>9</td>\n",
       "      <td>−6</td>\n",
       "      <td>0</td>\n",
       "      <td>0</td>\n",
       "    </tr>\n",
       "    <tr>\n",
       "      <th>8</th>\n",
       "      <td>Colombia</td>\n",
       "      <td>southamerica</td>\n",
       "      <td>C</td>\n",
       "      <td>1</td>\n",
       "      <td>3</td>\n",
       "      <td>3</td>\n",
       "      <td>0</td>\n",
       "      <td>0</td>\n",
       "      <td>9</td>\n",
       "      <td>2</td>\n",
       "      <td>7</td>\n",
       "      <td>9</td>\n",
       "      <td>1</td>\n",
       "    </tr>\n",
       "    <tr>\n",
       "      <th>9</th>\n",
       "      <td>Greece</td>\n",
       "      <td>europe</td>\n",
       "      <td>C</td>\n",
       "      <td>2</td>\n",
       "      <td>3</td>\n",
       "      <td>1</td>\n",
       "      <td>1</td>\n",
       "      <td>1</td>\n",
       "      <td>2</td>\n",
       "      <td>4</td>\n",
       "      <td>−2</td>\n",
       "      <td>4</td>\n",
       "      <td>1</td>\n",
       "    </tr>\n",
       "  </tbody>\n",
       "</table>\n",
       "</div>"
      ],
      "text/plain": [
       "          team     continent group  group_pos  cantidad_juegos  \\\n",
       "0       Brazil  southamerica     A          1                3   \n",
       "1       Mexico  northamerica     A          2                3   \n",
       "2      Croatia        europe     A          3                3   \n",
       "3     Cameroon        africa     A          4                3   \n",
       "4  Netherlands        europe     B          1                3   \n",
       "5        Chile  southamerica     B          2                3   \n",
       "6        Spain        europe     B          3                3   \n",
       "7    Australia          asia     B          4                3   \n",
       "8     Colombia  southamerica     C          1                3   \n",
       "9       Greece        europe     C          2                3   \n",
       "\n",
       "   juegos_ganados  juegos_empatados  juegos_perdidos  goles_favor  \\\n",
       "0               2                 1                0            7   \n",
       "1               2                 1                0            4   \n",
       "2               1                 0                2            6   \n",
       "3               0                 0                3            1   \n",
       "4               3                 0                0           10   \n",
       "5               2                 0                1            5   \n",
       "6               1                 0                2            4   \n",
       "7               0                 0                3            3   \n",
       "8               3                 0                0            9   \n",
       "9               1                 1                1            2   \n",
       "\n",
       "   goles_contra goles_diferencia  puntos  clasificado  \n",
       "0             2                5       7            1  \n",
       "1             1                3       7            1  \n",
       "2             6                0       3            0  \n",
       "3             9               −8       0            0  \n",
       "4             3                7       9            1  \n",
       "5             3                2       6            1  \n",
       "6             7               −3       3            0  \n",
       "7             9               −6       0            0  \n",
       "8             2                7       9            1  \n",
       "9             4               −2       4            1  "
      ]
     },
     "execution_count": 2,
     "metadata": {},
     "output_type": "execute_result"
    }
   ],
   "source": [
    "import pandas as pd\n",
    "import nbimporter\n",
    "import funciones_Desafio_II\n",
    "\n",
    "df = pd.read_csv ('/Users/andrea/Desktop/DATA SCIENCE/Modulo 3-Python-Estadistica/Estadística descriptiva y probabilidades II/desafio/worldcup2014.csv')\n",
    "\n",
    "df.head(10)"
   ]
  },
  {
   "cell_type": "markdown",
   "id": "834663d2",
   "metadata": {},
   "source": [
    "# <span style=\"color:green\">1</span>\n",
    "\n",
    "## <span style=\"color:blue\">Explicación del código</span>\n",
    "\n",
    "Para la realización de este requerimiento se desarrollan funciones para mejorar la estructura, la legibilidad y la eficiencia del código. Estas funciones se encuentran en el archivo **funciones_Desafio II.ipynb**, donde se explica con detalle el uso de cada una.\n",
    "\n",
    "En todas las probabilidades calculadas se invocan la funciones correspondientes junto con la condición requerida en base al continente, juegos ganados y clasificación según corresponda. \n",
    "\n",
    "### Desarrollo: Considerando el experimento de seleccionar un país participante al azar, se pide determinar las probabilidades de los siguientes sucesos:\n"
   ]
  },
  {
   "cell_type": "markdown",
   "id": "0da1eb35",
   "metadata": {},
   "source": [
    "### <span style=\"color:orange\">Probabilidad de pertencer a África</span>"
   ]
  },
  {
   "cell_type": "code",
   "execution_count": 156,
   "id": "06728c89",
   "metadata": {},
   "outputs": [
    {
     "name": "stdout",
     "output_type": "stream",
     "text": [
      "Probabilidad de pertenecer a África: 15.62%\n"
     ]
    }
   ],
   "source": [
    "# Calcular la probabilidad de pertencer a África\n",
    "\n",
    "# Uso de funciones\n",
    "\n",
    "africa = calcular_probabilidad(df, df['continent'] == 'africa')\n",
    "\n",
    "africa_porcentaje = convertir_a_porcentaje (africa)\n",
    "\n",
    "# Mostrar los resultados como porcentaje\n",
    "\n",
    "print(f'Probabilidad de pertenecer a África: {africa_porcentaje:.2f}%')"
   ]
  },
  {
   "cell_type": "markdown",
   "id": "04ed4169",
   "metadata": {},
   "source": [
    "### <span style=\"color:orange\">Probabilidad de pertencer a Asia</span>"
   ]
  },
  {
   "cell_type": "code",
   "execution_count": 151,
   "id": "98862750",
   "metadata": {},
   "outputs": [
    {
     "name": "stdout",
     "output_type": "stream",
     "text": [
      "Probabilidad de pertenecer a Asia: 12.50%\n"
     ]
    }
   ],
   "source": [
    "# Calcular la probabilidad de pertencer a Asia\n",
    "\n",
    "# Uso de funciones\n",
    "\n",
    "asia = calcular_probabilidad(df, df['continent'] == 'asia')\n",
    "\n",
    "asia_porcentaje = convertir_a_porcentaje (asia)\n",
    "\n",
    "# Mostrar los resultados como porcentaje\n",
    "\n",
    "print(f'Probabilidad de pertenecer a Asia: {asia_porcentaje:.2f}%')"
   ]
  },
  {
   "cell_type": "markdown",
   "id": "47255470",
   "metadata": {},
   "source": [
    "### <span style=\"color:orange\">Probabilidad de pertencer a Europa</span>"
   ]
  },
  {
   "cell_type": "code",
   "execution_count": 152,
   "id": "c6db5a78",
   "metadata": {},
   "outputs": [
    {
     "name": "stdout",
     "output_type": "stream",
     "text": [
      "Probabilidad de pertenecer a Europa: 40.62%\n"
     ]
    }
   ],
   "source": [
    "# Calcular la probabilidad de pertencer a Europa\n",
    "\n",
    "# Uso de funciones\n",
    "\n",
    "europa = calcular_probabilidad(df, df['continent'] == 'europe')\n",
    "\n",
    "europa_porcentaje = convertir_a_porcentaje (europa)\n",
    "\n",
    "# Mostrar los resultados como porcentaje\n",
    "\n",
    "print(f'Probabilidad de pertenecer a Europa: {europa_porcentaje:.2f}%')"
   ]
  },
  {
   "cell_type": "markdown",
   "id": "9742a3d7",
   "metadata": {},
   "source": [
    "### <span style=\"color:orange\">Probabilidad de pertencer a Norteamérca</span>"
   ]
  },
  {
   "cell_type": "code",
   "execution_count": 153,
   "id": "82b49ec3",
   "metadata": {},
   "outputs": [
    {
     "name": "stdout",
     "output_type": "stream",
     "text": [
      "Probabilidad de pertenecer a Norteamérica: 12.50%\n"
     ]
    }
   ],
   "source": [
    "# Calcular la probabilidad de pertencer a Norteamérica\n",
    "\n",
    "# Uso de funciones\n",
    "\n",
    "norteamerica = calcular_probabilidad(df, df['continent'] == 'northamerica')\n",
    "\n",
    "norteamerica_porcentaje = convertir_a_porcentaje (norteamerica)\n",
    "\n",
    "# Mostrar los resultados como porcentaje\n",
    "\n",
    "print(f'Probabilidad de pertenecer a Norteamérica: {norteamerica_porcentaje:.2f}%')"
   ]
  },
  {
   "cell_type": "markdown",
   "id": "649b5705",
   "metadata": {},
   "source": [
    "### <span style=\"color:orange\">Probabilidad de pertencer a Sudamérca</span>"
   ]
  },
  {
   "cell_type": "code",
   "execution_count": 154,
   "id": "804215cd",
   "metadata": {},
   "outputs": [
    {
     "name": "stdout",
     "output_type": "stream",
     "text": [
      "Probabilidad de pertenecer a Sudamérica: 18.75%\n"
     ]
    }
   ],
   "source": [
    "# Calcular la probabilidad de pertencer a Sudamérica\n",
    "\n",
    "# Uso de funciones\n",
    "\n",
    "sudamerica = calcular_probabilidad(df, df['continent'] == 'southamerica')\n",
    "\n",
    "sudamerica_porcentaje = convertir_a_porcentaje (sudamerica)\n",
    "\n",
    "# Mostrar los resultados como porcentaje\n",
    "\n",
    "print(f'Probabilidad de pertenecer a Sudamérica: {sudamerica_porcentaje:.2f}%')"
   ]
  },
  {
   "cell_type": "markdown",
   "id": "f0ba91eb",
   "metadata": {},
   "source": [
    "### <span style=\"color:orange\"> Probabilidad de clasificar a segunda ronda</span>"
   ]
  },
  {
   "cell_type": "code",
   "execution_count": 95,
   "id": "105f6009",
   "metadata": {},
   "outputs": [
    {
     "name": "stdout",
     "output_type": "stream",
     "text": [
      "Probabilidad de clasificar a segunda ronda: 50.00%\n"
     ]
    }
   ],
   "source": [
    "# Calcular la probabilidad de clasificar a segunda ronda\n",
    "\n",
    "# Uso de funciones\n",
    "\n",
    "segunda_ronda = calcular_probabilidad(df, df['clasificado'] == True)\n",
    "\n",
    "segunda_ronda_porcentaje = convertir_a_porcentaje (segunda_ronda)\n",
    "\n",
    "# Mostrar los resultados como porcentaje\n",
    "\n",
    "print(f'Probabilidad de clasificar a segunda ronda: {segunda_ronda_porcentaje:.2f}%')\n"
   ]
  },
  {
   "cell_type": "markdown",
   "id": "3b0402e1",
   "metadata": {},
   "source": [
    "### <span style=\"color:orange\"> Probabilidad de ganar al menos un partido</span>"
   ]
  },
  {
   "cell_type": "code",
   "execution_count": 97,
   "id": "730bb278",
   "metadata": {},
   "outputs": [
    {
     "name": "stdout",
     "output_type": "stream",
     "text": [
      "Probabilidad de ganar al menos un partido: 71.88%\n"
     ]
    }
   ],
   "source": [
    "# Calcular la probabilidad de ganar al menos un partido\n",
    "\n",
    "# Uso de funciones\n",
    "\n",
    "ganar_partido = calcular_probabilidad(df, df['juegos_ganados'] >= 1)\n",
    "\n",
    "ganar_partido_porcentaje = convertir_a_porcentaje (ganar_partido)\n",
    "\n",
    "# Mostrar los resultados como porcentaje\n",
    "\n",
    "print(f'Probabilidad de ganar al menos un partido: {prob_ganar_partido:.2f}%')"
   ]
  },
  {
   "cell_type": "code",
   "execution_count": 7,
   "id": "6bcd8e9b",
   "metadata": {},
   "outputs": [
    {
     "ename": "TypeError",
     "evalue": "'float' object is not callable",
     "output_type": "error",
     "traceback": [
      "\u001b[0;31m---------------------------------------------------------------------------\u001b[0m",
      "\u001b[0;31mTypeError\u001b[0m                                 Traceback (most recent call last)",
      "\u001b[0;32m/var/folders/kk/z9bmb0710xzc_wbw74w_gy1h0000gp/T/ipykernel_86365/4263310575.py\u001b[0m in \u001b[0;36m<module>\u001b[0;34m\u001b[0m\n\u001b[0;32m----> 1\u001b[0;31m \u001b[0mprob_ganar_partido\u001b[0m \u001b[0;34m=\u001b[0m \u001b[0mprobabilidad\u001b[0m\u001b[0;34m(\u001b[0m\u001b[0mdf\u001b[0m\u001b[0;34m[\u001b[0m\u001b[0;34m'juegos_ganados'\u001b[0m\u001b[0;34m]\u001b[0m \u001b[0;34m>=\u001b[0m \u001b[0;36m1\u001b[0m\u001b[0;34m)\u001b[0m\u001b[0;34m\u001b[0m\u001b[0;34m\u001b[0m\u001b[0m\n\u001b[0m\u001b[1;32m      2\u001b[0m \u001b[0mprint\u001b[0m\u001b[0;34m(\u001b[0m\u001b[0mprob_ganar_partido\u001b[0m\u001b[0;34m)\u001b[0m\u001b[0;34m\u001b[0m\u001b[0;34m\u001b[0m\u001b[0m\n",
      "\u001b[0;31mTypeError\u001b[0m: 'float' object is not callable"
     ]
    }
   ],
   "source": [
    "prob_ganar_partido = probabilidad(df['juegos_ganados'] >= 1)\n",
    "print(prob_ganar_partido)"
   ]
  },
  {
   "cell_type": "markdown",
   "id": "af76f1e2",
   "metadata": {},
   "source": [
    "### <span style=\"color:orange\"> Probabilidad de pertenecer a África y clasificar a segunda ronda</span>"
   ]
  },
  {
   "cell_type": "code",
   "execution_count": 98,
   "id": "89c3f318",
   "metadata": {},
   "outputs": [
    {
     "name": "stdout",
     "output_type": "stream",
     "text": [
      "Probabilidad de pertenecer a África y clasificar a la segunda ronda: 6.25%\n"
     ]
    }
   ],
   "source": [
    "# Calcular la probabilidad de pertenecer a África y clasificar a segunda ronda\n",
    "\n",
    "# Uso de funciones\n",
    "\n",
    "africa_y_clasificado = calcular_probabilidad(df, (df['continent'] == 'africa') & (df['clasificado'] == True))\n",
    "\n",
    "africa_y_clasificado_porcentaje = convertir_a_porcentaje (africa_y_clasificado)\n",
    "\n",
    "# Mostrar los resultados como porcentaje\n",
    "\n",
    "print(f'Probabilidad de pertenecer a África y clasificar a la segunda ronda: {africa_y_clasificado_porcentaje:.2f}%')"
   ]
  },
  {
   "cell_type": "markdown",
   "id": "f8b5fc02",
   "metadata": {},
   "source": [
    "### <span style=\"color:orange\"> Probabilidad de pertenecer a Europa y clasificar a segunda ronda</span>"
   ]
  },
  {
   "cell_type": "code",
   "execution_count": 101,
   "id": "e2223919",
   "metadata": {},
   "outputs": [
    {
     "name": "stdout",
     "output_type": "stream",
     "text": [
      "Probabilidad de pertenecer a Europa y clasificar a la segunda ronda: 18.75%\n"
     ]
    }
   ],
   "source": [
    "# Calcular la probabilidad de pertenecer a Europa y clasificar a segunda ronda\n",
    "\n",
    "# Uso de funciones\n",
    "\n",
    "europa_y_clasificado = calcular_probabilidad(df, (df['continent'] == 'europe') & (df['clasificado'] == True))\n",
    "\n",
    "europa_y_clasificado_porcentaje = convertir_a_porcentaje (europa_y_clasificado)\n",
    "\n",
    "# Mostrar los resultados como porcentaje\n",
    "\n",
    "print(f'Probabilidad de pertenecer a Europa y clasificar a la segunda ronda: {europa_y_clasificado_porcentaje:.2f}%')"
   ]
  },
  {
   "cell_type": "markdown",
   "id": "7ec4ea91",
   "metadata": {},
   "source": [
    "### <span style=\"color:orange\"> Probabilidad de pertenecer a Asia y clasificar a segunda ronda</span>"
   ]
  },
  {
   "cell_type": "code",
   "execution_count": 102,
   "id": "f961a381",
   "metadata": {},
   "outputs": [
    {
     "name": "stdout",
     "output_type": "stream",
     "text": [
      "Probabilidad de pertenecer a Asia y clasificar a la segunda ronda: 0.00%\n"
     ]
    }
   ],
   "source": [
    "# Calcular la probabilidad de pertenecer a Asia y clasificar a segunda ronda\n",
    "\n",
    "# Uso de funciones\n",
    "\n",
    "asia_y_clasificado = calcular_probabilidad(df, (df['continent'] == 'asia') & (df['clasificado'] == True))\n",
    "\n",
    "asia_y_clasificado_porcentaje = convertir_a_porcentaje (asia_y_clasificado)\n",
    "\n",
    "# Mostrar los resultados como porcentaje\n",
    "\n",
    "print(f'Probabilidad de pertenecer a Asia y clasificar a la segunda ronda: {asia_y_clasificado_porcentaje:.2f}%')"
   ]
  },
  {
   "cell_type": "markdown",
   "id": "5c0c8179",
   "metadata": {},
   "source": [
    "### <span style=\"color:orange\"> Probabilidad de pertenecer a Sudamérica y clasificar a segunda ronda</span>"
   ]
  },
  {
   "cell_type": "code",
   "execution_count": 103,
   "id": "2f7088cf",
   "metadata": {},
   "outputs": [
    {
     "name": "stdout",
     "output_type": "stream",
     "text": [
      "Probabilidad de pertenecer a Sudamérica y clasificar a la segunda ronda: 15.62%\n"
     ]
    }
   ],
   "source": [
    "# Calcular la probabilidad de pertenecer a Sudamérica y clasificar a segunda ronda\n",
    "\n",
    "# Uso de funciones\n",
    "\n",
    "sudamerica_y_clasificado = calcular_probabilidad(df, (df['continent'] == 'southamerica') & (df['clasificado'] == True))\n",
    "\n",
    "sudamerica_y_clasificado_porcentaje = convertir_a_porcentaje (sudamerica_y_clasificado)\n",
    "\n",
    "\n",
    "# Mostrar los resultados como porcentaje\n",
    "\n",
    "print(f'Probabilidad de pertenecer a Sudamérica y clasificar a la segunda ronda: {sudamerica_y_clasificado_porcentaje:.2f}%')"
   ]
  },
  {
   "cell_type": "markdown",
   "id": "7e5aa4cc",
   "metadata": {},
   "source": [
    "### <span style=\"color:orange\"> Probabilidad de pertenecer a Norteamérica y clasificar a segunda ronda</span>"
   ]
  },
  {
   "cell_type": "code",
   "execution_count": 104,
   "id": "efbe4b24",
   "metadata": {},
   "outputs": [
    {
     "name": "stdout",
     "output_type": "stream",
     "text": [
      "Probabilidad de pertenecer a Norteamérica y clasificar a la segunda ronda: 9.38%\n"
     ]
    }
   ],
   "source": [
    "# Calcular la probabilidad de pertenecer a Norteamérica y clasificar a segunda ronda\n",
    "\n",
    "# Uso de funciones\n",
    "\n",
    "norteamerica_y_clasificado = calcular_probabilidad(df, (df['continent'] == 'northamerica') & (df['clasificado'] == True))\n",
    "\n",
    "norteamerica_y_clasificado_porcentaje = convertir_a_porcentaje (norteamerica_y_clasificado)\n",
    "\n",
    "# Mostrar los resultados como porcentaje\n",
    "\n",
    "print(f'Probabilidad de pertenecer a Norteamérica y clasificar a la segunda ronda: {norteamerica_y_clasificado_porcentaje:.2f}%')"
   ]
  },
  {
   "cell_type": "markdown",
   "id": "9f345718",
   "metadata": {},
   "source": [
    "##### Para poder hacer uso de la función \"calcular_probabilidad_union\" debemos calcular la probabilidad de de clasificar a la segunda ronda usando la condición 'clasificado', la cual será usada en el calculo de todas las probabilidades que vienen a continuación."
   ]
  },
  {
   "cell_type": "code",
   "execution_count": 138,
   "id": "b6fca551",
   "metadata": {},
   "outputs": [],
   "source": [
    "# Calcular la probabilidad de clasificar a la segunda ronda\n",
    "prob_clasificado = calcular_probabilidad(df, df['clasificado'] == True)\n"
   ]
  },
  {
   "cell_type": "markdown",
   "id": "d7004d38",
   "metadata": {},
   "source": [
    "### <span style=\"color:orange\"> Probabilidad de pertenecer a África o clasificar a segunda ronda</span>"
   ]
  },
  {
   "cell_type": "code",
   "execution_count": 107,
   "id": "76f3e743",
   "metadata": {},
   "outputs": [
    {
     "name": "stdout",
     "output_type": "stream",
     "text": [
      "Probabilidad de pertenecer a África o clasificar a la segunda ronda: 59.38%\n"
     ]
    }
   ],
   "source": [
    "# Calcular la probabilidad de pertenecer a África o clasificar a segunda ronda\n",
    "\n",
    "# Uso de funciones\n",
    "\n",
    "norteamerica_o_clasificado = calcular_probabilidad_union (africa, prob_clasificado, africa_y_clasificado) \n",
    "\n",
    "norteamerica_o_clasificado_porc = convertir_a_porcentaje (norteamerica_o_clasificado)\n",
    "\n",
    "# Mostrar los resultados como porcentaje\n",
    "\n",
    "print(f'Probabilidad de pertenecer a África o clasificar a la segunda ronda: {prob_norteamerica_o_clasificado_porc:.2f}%')"
   ]
  },
  {
   "cell_type": "markdown",
   "id": "50e8c1cd",
   "metadata": {},
   "source": [
    "### <span style=\"color:orange\"> Probabilidad de pertenecer a Europa o clasificar a segunda ronda</span>"
   ]
  },
  {
   "cell_type": "code",
   "execution_count": 109,
   "id": "e017cf75",
   "metadata": {},
   "outputs": [
    {
     "name": "stdout",
     "output_type": "stream",
     "text": [
      "Probabilidad de pertenecer a Europa o clasificar a la segunda ronda: 71.88%\n"
     ]
    }
   ],
   "source": [
    "# Calcular la probabilidad de pertenecer a Europa o clasificar a segunda ronda\n",
    "\n",
    "# Uso de funciones\n",
    "\n",
    "europa_o_clasificado = calcular_probabilidad_union (europa, prob_clasificado, europa_y_clasificado) \n",
    "\n",
    "europa_o_clasificado_porc = convertir_a_porcentaje (europa_o_clasificado)\n",
    "\n",
    "# Mostrar los resultados como porcentaje\n",
    "\n",
    "print(f'Probabilidad de pertenecer a Europa o clasificar a la segunda ronda: {europa_o_clasificado_porc:.2f}%')"
   ]
  },
  {
   "cell_type": "markdown",
   "id": "88ce3d1e",
   "metadata": {},
   "source": [
    "### <span style=\"color:orange\"> Probabilidad de pertenecer a Asia o clasificar a segunda ronda</span>"
   ]
  },
  {
   "cell_type": "code",
   "execution_count": 110,
   "id": "2f718010",
   "metadata": {},
   "outputs": [
    {
     "name": "stdout",
     "output_type": "stream",
     "text": [
      "Probabilidad de pertenecer a Asia o clasificar a la segunda ronda: 62.50%\n"
     ]
    }
   ],
   "source": [
    "# Calcular la probabilidad de pertenecer a Asia o clasificar a segunda ronda\n",
    "\n",
    "# Uso de funciones\n",
    "\n",
    "asia_o_clasificado = calcular_probabilidad_union (asia, prob_clasificado, asia_y_clasificado) \n",
    "\n",
    "asia_o_clasificado_porc = convertir_a_porcentaje (asia_o_clasificado)\n",
    "\n",
    "# Mostrar los resultados como porcentaje\n",
    "\n",
    "print(f'Probabilidad de pertenecer a Asia o clasificar a la segunda ronda: {asia_o_clasificado_porc:.2f}%')"
   ]
  },
  {
   "cell_type": "markdown",
   "id": "fe1a4c82",
   "metadata": {},
   "source": [
    "### <span style=\"color:orange\"> Probabilidad de pertenecer a Sudamérica o clasificar a segunda ronda</span>"
   ]
  },
  {
   "cell_type": "code",
   "execution_count": 112,
   "id": "db8bfea3",
   "metadata": {},
   "outputs": [
    {
     "name": "stdout",
     "output_type": "stream",
     "text": [
      "Probabilidad de pertenecer a Sudamérica o clasificar a la segunda ronda: 53.12%\n"
     ]
    }
   ],
   "source": [
    "# Calcular la probabilidad de pertenecer a Sudamérica o clasificar a segunda ronda\n",
    "\n",
    "# Uso de funciones\n",
    "\n",
    "sudamerica_o_clasificado = calcular_probabilidad_union (sudamerica, prob_clasificado, sudamerica_y_clasificado) \n",
    "\n",
    "sudamerica_o_clasificado_porc = convertir_a_porcentaje (sudamerica_o_clasificado)\n",
    "\n",
    "# Mostrar los resultados como porcentaje\n",
    "\n",
    "print(f'Probabilidad de pertenecer a Sudamérica o clasificar a la segunda ronda: {sudamerica_o_clasificado_porc:.2f}%')"
   ]
  },
  {
   "cell_type": "markdown",
   "id": "a213bd75",
   "metadata": {},
   "source": [
    "### <span style=\"color:orange\"> Probabilidad de pertenecer a Norteamérica o clasificar a segunda ronda</span>"
   ]
  },
  {
   "cell_type": "code",
   "execution_count": 114,
   "id": "13553fe7",
   "metadata": {},
   "outputs": [
    {
     "name": "stdout",
     "output_type": "stream",
     "text": [
      "Probabilidad de pertenecer a Norteamérica o clasificar a la segunda ronda: 53.12%\n"
     ]
    }
   ],
   "source": [
    "# Calcular la probabilidad de pertenecer a Norteamérica o clasificar a segunda ronda\n",
    "\n",
    "# Uso de funciones\n",
    "\n",
    "norteamerica_o_clasificado = calcular_probabilidad_union (norteamerica, prob_clasificado, norteamerica_y_clasificado) \n",
    "\n",
    "norteamerica_o_clasificado_porc = convertir_a_porcentaje (norteamerica_o_clasificado)\n",
    "\n",
    "# Mostrar los resultados como porcentaje\n",
    "\n",
    "print(f'Probabilidad de pertenecer a Norteamérica o clasificar a la segunda ronda: {norteamerica_o_clasificado_porc:.2f}%')"
   ]
  },
  {
   "cell_type": "markdown",
   "id": "f901fb7a",
   "metadata": {},
   "source": [
    "### <span style=\"color:orange\"> Probabilidad de pertenecer a África y haber ganado al menos un partido</span>"
   ]
  },
  {
   "cell_type": "code",
   "execution_count": 120,
   "id": "834dd2b5",
   "metadata": {},
   "outputs": [
    {
     "name": "stdout",
     "output_type": "stream",
     "text": [
      "Probabilidad de pertenecer a África y haber ganado al menos un partido: 9.38%\n"
     ]
    }
   ],
   "source": [
    "# Calcular la probabilidad de pertenecer a África y haber ganado al menos un partido\n",
    "\n",
    "# Uso de funciones\n",
    "\n",
    "africa_y_ganado = calcular_probabilidad(df, (df['continent'] == 'africa') & (df['juegos_ganados'] >= 1))\n",
    "\n",
    "africa_y_ganado_porcentaje = convertir_a_porcentaje (africa_y_ganado)\n",
    "\n",
    "# Mostrar los resultados como porcentaje\n",
    "\n",
    "print(f'Probabilidad de pertenecer a África y haber ganado al menos un partido: {africa_y_ganado_porcentaje:.2f}%')\n"
   ]
  },
  {
   "cell_type": "markdown",
   "id": "a0dabfe8",
   "metadata": {},
   "source": [
    "### <span style=\"color:orange\"> Probabilidad de pertenecer a Europa y haber ganado al menos un partido</span>"
   ]
  },
  {
   "cell_type": "code",
   "execution_count": 118,
   "id": "04a4dd75",
   "metadata": {},
   "outputs": [
    {
     "name": "stdout",
     "output_type": "stream",
     "text": [
      "Probabilidad de pertenecer a Europa y haber ganado al menos un partido: 34.38%\n"
     ]
    }
   ],
   "source": [
    "# Calcular la probabilidad de pertenecer a Europa y haber ganado al menos un partido\n",
    "\n",
    "# Uso de funciones\n",
    "\n",
    "europa_y_ganado = calcular_probabilidad(df, (df['continent'] == 'europe') & (df['juegos_ganados'] >= 1))\n",
    "\n",
    "europa_y_ganado_porcentaje = convertir_a_porcentaje (europa_y_ganado)\n",
    "\n",
    "# Mostrar los resultados como porcentaje\n",
    "\n",
    "print(f'Probabilidad de pertenecer a Europa y haber ganado al menos un partido: {europa_y_ganado_porcentaje:.2f}%')\n"
   ]
  },
  {
   "cell_type": "markdown",
   "id": "bb7dd778",
   "metadata": {},
   "source": [
    "### <span style=\"color:orange\"> Probabilidad de pertenecer a Asia y haber ganado al menos un partido</span>"
   ]
  },
  {
   "cell_type": "code",
   "execution_count": 119,
   "id": "ad7e2a1e",
   "metadata": {},
   "outputs": [
    {
     "name": "stdout",
     "output_type": "stream",
     "text": [
      "Probabilidad de pertenecer a Asia y haber ganado al menos un partido: 0.00%\n"
     ]
    }
   ],
   "source": [
    "# Calcular la probabilidad de pertenecer a Asia y haber ganado al menos un partido\n",
    "\n",
    "# Uso de funciones\n",
    "\n",
    "asia_y_ganado = calcular_probabilidad(df, (df['continent'] == 'asia') & (df['juegos_ganados'] >= 1))\n",
    "\n",
    "asia_y_ganado_porcentaje = convertir_a_porcentaje (asia_y_ganado)\n",
    "\n",
    "# Mostrar los resultados como porcentaje\n",
    "\n",
    "print(f'Probabilidad de pertenecer a Asia y haber ganado al menos un partido: {asia_y_ganado_porcentaje:.2f}%')\n"
   ]
  },
  {
   "cell_type": "markdown",
   "id": "8678e981",
   "metadata": {},
   "source": [
    "### <span style=\"color:orange\"> Probabilidad de pertenecer a Sudamérica y haber ganado al menos un partido</span>"
   ]
  },
  {
   "cell_type": "code",
   "execution_count": 121,
   "id": "c6c03d1a",
   "metadata": {},
   "outputs": [
    {
     "name": "stdout",
     "output_type": "stream",
     "text": [
      "Probabilidad de pertenecer a Sudamérica y haber ganado al menos un partido: 18.75%\n"
     ]
    }
   ],
   "source": [
    "# Calcular la probabilidad de pertenecer a Sudamérica y haber ganado al menos un partido\n",
    "\n",
    "# Uso de funciones\n",
    "\n",
    "sudamerica_y_ganado = calcular_probabilidad(df, (df['continent'] == 'southamerica') & (df['juegos_ganados'] >= 1))\n",
    "\n",
    "sudamerica_y_ganado_porcentaje = convertir_a_porcentaje (sudamerica_y_ganado)\n",
    "\n",
    "# Mostrar los resultados como porcentaje\n",
    "\n",
    "print(f'Probabilidad de pertenecer a Sudamérica y haber ganado al menos un partido: {sudamerica_y_ganado_porcentaje:.2f}%')"
   ]
  },
  {
   "cell_type": "markdown",
   "id": "e3e4361e",
   "metadata": {},
   "source": [
    "### <span style=\"color:orange\"> Probabilidad de pertenecer a Norteamérica y haber ganado al menos un partido</span>"
   ]
  },
  {
   "cell_type": "code",
   "execution_count": 122,
   "id": "f4ef6b15",
   "metadata": {},
   "outputs": [
    {
     "name": "stdout",
     "output_type": "stream",
     "text": [
      "Probabilidad de pertenecer a Norteamérica y haber ganado al menos un partido: 9.38%\n"
     ]
    }
   ],
   "source": [
    "# Calcular la probabilidad de pertenecer a Norteamérica y haber ganado al menos un partido\n",
    "\n",
    "# Uso de funciones\n",
    "\n",
    "norteamerica_y_ganado = calcular_probabilidad(df, (df['continent'] == 'northamerica') & (df['juegos_ganados'] >= 1))\n",
    "\n",
    "norteamerica_y_ganado_porcentaje = convertir_a_porcentaje (norteamerica_y_ganado)\n",
    "\n",
    "# Mostrar los resultados como porcentaje\n",
    "\n",
    "print(f'Probabilidad de pertenecer a Norteamérica y haber ganado al menos un partido: {norteamerica_y_ganado_porcentaje:.2f}%')"
   ]
  },
  {
   "cell_type": "markdown",
   "id": "432f0659",
   "metadata": {},
   "source": [
    "### <span style=\"color:orange\"> Probabilidad de haber ganado al menos un partido y clasificar a segunda ronda</span>"
   ]
  },
  {
   "cell_type": "code",
   "execution_count": 123,
   "id": "7a9e6b1e",
   "metadata": {},
   "outputs": [
    {
     "name": "stdout",
     "output_type": "stream",
     "text": [
      "Probabilidad de haber ganado al menos un partido y clasificar a segunda ronda: 50.00%\n"
     ]
    }
   ],
   "source": [
    "# Calcular la probabilidad de haber ganado al menos un partido y clasificar a segunda ronda\n",
    "\n",
    "# Uso de funciones\n",
    "\n",
    "prob_ganado_y_clasificado = calcular_probabilidad(df,(df['juegos_ganados'] >= 1) & (df['clasificado'] == True))\n",
    "\n",
    "prob_ganado_y_clasificado_porc = convertir_a_porcentaje (prob_ganado_y_clasificado)\n",
    "\n",
    "# Mostrar los resultados como porcentaje\n",
    "\n",
    "print(f'Probabilidad de haber ganado al menos un partido y clasificar a segunda ronda: {prob_ganado_y_clasificado_porc:.2f}%')\n"
   ]
  },
  {
   "cell_type": "markdown",
   "id": "50b9e5e3",
   "metadata": {},
   "source": [
    "# <span style=\"color:green\">2</span>\n",
    "\n",
    "## <span style=\"color:blue\">Explicación del código</span>\n",
    "\n",
    "Para la realización de este requerimiento se hace el uso nuevamente de las funciones que se encuentran en el archivo **funciones_Desafio II.ipynb**. En todas las probabilidades calculadas se invocan la funciones correspondientes junto con la condición requerida en base al continente, juegos ganados y clasificación según corresponda, al igual que en el punto anterior.\n",
    "\n",
    "La diferencia radica que en este apartado usaremos la función **calcular_probabilidad_condicional** que utiliza la fórmula de probabilidasd condicional para obtener las probabilidades solicitadas, presentando el resultado como porcentaje.\n",
    "\n",
    "### A partir de las probabilidades anteriores, y sin realizar conteos, calcular las siguientes probabilidades:\n"
   ]
  },
  {
   "cell_type": "markdown",
   "id": "69dfc49c",
   "metadata": {},
   "source": [
    "### <span style=\"color:orange\"> Probabilidad de pertenecer a Europa, si se sabe que clasificó</span>"
   ]
  },
  {
   "cell_type": "code",
   "execution_count": 141,
   "id": "1aaa347e",
   "metadata": {},
   "outputs": [
    {
     "name": "stdout",
     "output_type": "stream",
     "text": [
      "Probabilidad de pertenecer a Europa dado que clasificó: 37.50%\n"
     ]
    }
   ],
   "source": [
    "# Calcular la probabilidad condicional de pertenecer a Europa dado que clasificó\n",
    "\n",
    "prob_europa_dado_clasificado = calcular_probabilidad_condicional(df, df['continent'] == 'europe', df['clasificado'] == True)\n",
    "\n",
    "prob_europa_dado_clasificado_porcentaje = convertir_a_porcentaje(prob_europa_dado_clasificado)\n",
    "\n",
    "# Mostrar el resultado como porcentaje\n",
    "\n",
    "print(f'Probabilidad de pertenecer a Europa dado que clasificó: {prob_europa_dado_clasificado_porcentaje:.2f}%')\n"
   ]
  },
  {
   "cell_type": "markdown",
   "id": "bfd60d3d",
   "metadata": {},
   "source": [
    "### <span style=\"color:orange\"> Probabilidad de pertenecer a Sudamérica, si se sabe que clasificó</span>"
   ]
  },
  {
   "cell_type": "code",
   "execution_count": 132,
   "id": "3774f8e8",
   "metadata": {},
   "outputs": [
    {
     "name": "stdout",
     "output_type": "stream",
     "text": [
      "Probabilidad de pertenecer a Europa dado que clasificó: 31.25%\n"
     ]
    }
   ],
   "source": [
    "# Calcular la probabilidad condicional de pertenecer a Sudamérica dado que clasificó\n",
    "\n",
    "prob_sudamerica_dado_clasificado = calcular_probabilidad_condicional(df, df['continent'] == 'southamerica', df['clasificado'] == True)\n",
    "\n",
    "prob_sudamerica_dado_clasificado_porc = convertir_a_porcentaje(prob_sudamerica_dado_clasificado)\n",
    "\n",
    "# Mostrar el resultado como porcentaje\n",
    "\n",
    "print(f'Probabilidad de pertenecer a Europa dado que clasificó: {prob_sudamerica_dado_clasificado_porc:.2f}%')\n"
   ]
  },
  {
   "cell_type": "markdown",
   "id": "c24b1060",
   "metadata": {},
   "source": [
    "### <span style=\"color:orange\"> Probabilidad de pertenecer a África, si se sabe que ganó al menos un partido</span>"
   ]
  },
  {
   "cell_type": "code",
   "execution_count": 133,
   "id": "52d6dfc3",
   "metadata": {},
   "outputs": [
    {
     "name": "stdout",
     "output_type": "stream",
     "text": [
      "Probabilidad de pertenecer a África dado que ganó al menos un partido: 13.04%\n"
     ]
    }
   ],
   "source": [
    "# Calcular la probabilidad condicional de pertenecer a África dado que ganó al menos un partido\n",
    "\n",
    "prob_africa_dado_gano = calcular_probabilidad_condicional(df, df['continent'] == 'africa', df['juegos_ganados'] >= 1)\n",
    "\n",
    "prob_africa_dado_gano_porc = convertir_a_porcentaje(prob_africa_dado_gano)\n",
    "\n",
    "# Mostrar el resultado como porcentaje\n",
    "\n",
    "print(f'Probabilidad de pertenecer a África dado que ganó al menos un partido: {prob_africa_dado_gano_porc:.2f}%')"
   ]
  },
  {
   "cell_type": "markdown",
   "id": "3942d0b5",
   "metadata": {},
   "source": [
    "### <span style=\"color:orange\"> Probabilidad de haber ganado al menos un partido, si se sabe que clasificó</span>"
   ]
  },
  {
   "cell_type": "code",
   "execution_count": 134,
   "id": "78100801",
   "metadata": {},
   "outputs": [
    {
     "name": "stdout",
     "output_type": "stream",
     "text": [
      "Probabilidad de haber ganado al menos un partido dado que clasificó: 100.00%\n"
     ]
    }
   ],
   "source": [
    "# Calcular la probabilidad condicional de haber ganado al menos un partido dado que clasificó\n",
    "\n",
    "prob_gano_dado_clasificado = calcular_probabilidad_condicional(df, df['juegos_ganados'] >= 1, df['clasificado'] == True)\n",
    "\n",
    "prob_gano_dado_clasificado_porc = convertir_a_porcentaje(prob_gano_dado_clasificado)\n",
    "\n",
    "# Mostrar el resultado como porcentaje\n",
    "\n",
    "print(f'Probabilidad de haber ganado al menos un partido dado que clasificó: {prob_gano_dado_clasificado_porc:.2f}%')\n"
   ]
  },
  {
   "cell_type": "markdown",
   "id": "62f97857",
   "metadata": {},
   "source": [
    "### <span style=\"color:orange\">  Probabilidad de haber ganado al menos un partido, si se sabe que pertenece a Norteamérica</span>"
   ]
  },
  {
   "cell_type": "code",
   "execution_count": 135,
   "id": "9fcb5c17",
   "metadata": {},
   "outputs": [
    {
     "name": "stdout",
     "output_type": "stream",
     "text": [
      "Probabilidad de haber ganado al menos un partido dado que pertenece a Norteamérica: 75.00%\n"
     ]
    }
   ],
   "source": [
    "# Calcular la probabilidad condicional de haber ganado al menos un partido dado que pertenece a Norteamérica\n",
    "\n",
    "prob_gano_dado_norteamerica = calcular_probabilidad_condicional(df, df['juegos_ganados'] >= 1, df['continent'] == 'northamerica')\n",
    "\n",
    "# Convertir la probabilidad a porcentaje\n",
    "\n",
    "prob_gano_dado_norteamerica_porcentaje = convertir_a_porcentaje(prob_gano_dado_norteamerica)\n",
    "\n",
    "# Mostrar el resultado como porcentaje\n",
    "\n",
    "print(f'Probabilidad de haber ganado al menos un partido dado que pertenece a Norteamérica: {prob_gano_dado_norteamerica_porcentaje:.2f}%')"
   ]
  },
  {
   "cell_type": "markdown",
   "id": "23872e76",
   "metadata": {},
   "source": [
    "### <span style=\"color:orange\">Probabilidad de no haber clasificado, si se sabe que pertenece a África</span>"
   ]
  },
  {
   "cell_type": "code",
   "execution_count": 139,
   "id": "20b20924",
   "metadata": {},
   "outputs": [
    {
     "name": "stdout",
     "output_type": "stream",
     "text": [
      "Probabilidad de no haber clasificado dado que pertenece a África: 60.00%\n"
     ]
    }
   ],
   "source": [
    "# Calcular la probabilidad condicional de no haber clasificado dado que pertenece a África\n",
    "\n",
    "prob_no_clasificado_dado_africa = calcular_probabilidad_condicional(df, df['clasificado'] == False, df['continent'] == 'africa')\n",
    "\n",
    "prob_no_clasificado_dado_africa_porcentaje = convertir_a_porcentaje(prob_no_clasificado_dado_africa)\n",
    "\n",
    "# Mostrar el resultado como porcentaje\n",
    "\n",
    "print(f'Probabilidad de no haber clasificado dado que pertenece a África: {prob_no_clasificado_dado_africa_porcentaje:.2f}%')\n"
   ]
  },
  {
   "cell_type": "code",
   "execution_count": null,
   "id": "f83ff177",
   "metadata": {},
   "outputs": [],
   "source": []
  }
 ],
 "metadata": {
  "kernelspec": {
   "display_name": "Python 3 (ipykernel)",
   "language": "python",
   "name": "python3"
  },
  "language_info": {
   "codemirror_mode": {
    "name": "ipython",
    "version": 3
   },
   "file_extension": ".py",
   "mimetype": "text/x-python",
   "name": "python",
   "nbconvert_exporter": "python",
   "pygments_lexer": "ipython3",
   "version": "3.9.13"
  }
 },
 "nbformat": 4,
 "nbformat_minor": 5
}
